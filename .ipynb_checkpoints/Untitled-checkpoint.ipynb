{
 "cells": [
  {
   "cell_type": "code",
   "execution_count": 14,
   "metadata": {},
   "outputs": [],
   "source": [
    "import numpy as np\n",
    "import pandas as pd\n"
   ]
  },
  {
   "cell_type": "code",
   "execution_count": 15,
   "metadata": {},
   "outputs": [
    {
     "data": {
      "text/html": [
       "<div>\n",
       "<style scoped>\n",
       "    .dataframe tbody tr th:only-of-type {\n",
       "        vertical-align: middle;\n",
       "    }\n",
       "\n",
       "    .dataframe tbody tr th {\n",
       "        vertical-align: top;\n",
       "    }\n",
       "\n",
       "    .dataframe thead th {\n",
       "        text-align: right;\n",
       "    }\n",
       "</style>\n",
       "<table border=\"1\" class=\"dataframe\">\n",
       "  <thead>\n",
       "    <tr style=\"text-align: right;\">\n",
       "      <th></th>\n",
       "      <th>stock_code</th>\n",
       "      <th>revenue</th>\n",
       "      <th>s_fa_eps_basic</th>\n",
       "      <th>du_profit</th>\n",
       "      <th>plus_net_invest_inc</th>\n",
       "      <th>net_cash_flows_oper_act</th>\n",
       "      <th>net_cash_flows_inv_act</th>\n",
       "      <th>net_roe</th>\n",
       "      <th>total_roe</th>\n",
       "      <th>RSI</th>\n",
       "      <th>VOL</th>\n",
       "      <th>WILLR</th>\n",
       "      <th>y</th>\n",
       "      <th>date</th>\n",
       "    </tr>\n",
       "  </thead>\n",
       "  <tbody>\n",
       "    <tr>\n",
       "      <th>0</th>\n",
       "      <td>000001.SZ</td>\n",
       "      <td>8.196800e+10</td>\n",
       "      <td>1.0600</td>\n",
       "      <td>0.000000e+00</td>\n",
       "      <td>0.000000e+00</td>\n",
       "      <td>-1.530000e+11</td>\n",
       "      <td>-9.716200e+10</td>\n",
       "      <td>8.7813</td>\n",
       "      <td>0.6289</td>\n",
       "      <td>52.970207</td>\n",
       "      <td>0.009827</td>\n",
       "      <td>-95.652174</td>\n",
       "      <td>0.035853</td>\n",
       "      <td>20171207</td>\n",
       "    </tr>\n",
       "    <tr>\n",
       "      <th>1</th>\n",
       "      <td>000002.SZ</td>\n",
       "      <td>1.170000e+11</td>\n",
       "      <td>1.0050</td>\n",
       "      <td>2.222772e+10</td>\n",
       "      <td>2.046834e+09</td>\n",
       "      <td>6.474047e+09</td>\n",
       "      <td>1.392036e+10</td>\n",
       "      <td>9.5305</td>\n",
       "      <td>1.6026</td>\n",
       "      <td>52.688324</td>\n",
       "      <td>0.006181</td>\n",
       "      <td>-98.727735</td>\n",
       "      <td>0.028047</td>\n",
       "      <td>20171207</td>\n",
       "    </tr>\n",
       "    <tr>\n",
       "      <th>2</th>\n",
       "      <td>000008.SZ</td>\n",
       "      <td>1.007329e+09</td>\n",
       "      <td>0.0434</td>\n",
       "      <td>1.776341e+08</td>\n",
       "      <td>0.000000e+00</td>\n",
       "      <td>-9.947078e+07</td>\n",
       "      <td>-1.193312e+09</td>\n",
       "      <td>1.9528</td>\n",
       "      <td>1.5235</td>\n",
       "      <td>30.723514</td>\n",
       "      <td>0.002209</td>\n",
       "      <td>-84.210526</td>\n",
       "      <td>0.050602</td>\n",
       "      <td>20171207</td>\n",
       "    </tr>\n",
       "    <tr>\n",
       "      <th>3</th>\n",
       "      <td>000060.SZ</td>\n",
       "      <td>1.482919e+10</td>\n",
       "      <td>0.3800</td>\n",
       "      <td>1.279332e+09</td>\n",
       "      <td>2.853988e+07</td>\n",
       "      <td>7.571307e+08</td>\n",
       "      <td>-4.932751e+08</td>\n",
       "      <td>8.6684</td>\n",
       "      <td>4.9238</td>\n",
       "      <td>38.133602</td>\n",
       "      <td>0.006967</td>\n",
       "      <td>-80.000000</td>\n",
       "      <td>0.019249</td>\n",
       "      <td>20171207</td>\n",
       "    </tr>\n",
       "    <tr>\n",
       "      <th>4</th>\n",
       "      <td>000063.SZ</td>\n",
       "      <td>4.775730e+10</td>\n",
       "      <td>0.9300</td>\n",
       "      <td>5.884933e+09</td>\n",
       "      <td>-1.951700e+07</td>\n",
       "      <td>-3.170483e+09</td>\n",
       "      <td>-4.387188e+09</td>\n",
       "      <td>12.6504</td>\n",
       "      <td>2.9854</td>\n",
       "      <td>49.792643</td>\n",
       "      <td>0.033398</td>\n",
       "      <td>-81.718963</td>\n",
       "      <td>0.068517</td>\n",
       "      <td>20171207</td>\n",
       "    </tr>\n",
       "  </tbody>\n",
       "</table>\n",
       "</div>"
      ],
      "text/plain": [
       "  stock_code       revenue  s_fa_eps_basic     du_profit  plus_net_invest_inc  \\\n",
       "0  000001.SZ  8.196800e+10          1.0600  0.000000e+00         0.000000e+00   \n",
       "1  000002.SZ  1.170000e+11          1.0050  2.222772e+10         2.046834e+09   \n",
       "2  000008.SZ  1.007329e+09          0.0434  1.776341e+08         0.000000e+00   \n",
       "3  000060.SZ  1.482919e+10          0.3800  1.279332e+09         2.853988e+07   \n",
       "4  000063.SZ  4.775730e+10          0.9300  5.884933e+09        -1.951700e+07   \n",
       "\n",
       "   net_cash_flows_oper_act  net_cash_flows_inv_act  net_roe  total_roe  \\\n",
       "0            -1.530000e+11           -9.716200e+10   8.7813     0.6289   \n",
       "1             6.474047e+09            1.392036e+10   9.5305     1.6026   \n",
       "2            -9.947078e+07           -1.193312e+09   1.9528     1.5235   \n",
       "3             7.571307e+08           -4.932751e+08   8.6684     4.9238   \n",
       "4            -3.170483e+09           -4.387188e+09  12.6504     2.9854   \n",
       "\n",
       "         RSI       VOL      WILLR         y      date  \n",
       "0  52.970207  0.009827 -95.652174  0.035853  20171207  \n",
       "1  52.688324  0.006181 -98.727735  0.028047  20171207  \n",
       "2  30.723514  0.002209 -84.210526  0.050602  20171207  \n",
       "3  38.133602  0.006967 -80.000000  0.019249  20171207  \n",
       "4  49.792643  0.033398 -81.718963  0.068517  20171207  "
      ]
     },
     "execution_count": 15,
     "metadata": {},
     "output_type": "execute_result"
    }
   ],
   "source": [
    "data=pd.read_csv(\"data/data.csv\")\n",
    "data.head()\n"
   ]
  },
  {
   "cell_type": "code",
   "execution_count": 16,
   "metadata": {},
   "outputs": [],
   "source": [
    "data=data.set_index([\"stock_code\"])"
   ]
  },
  {
   "cell_type": "code",
   "execution_count": 17,
   "metadata": {},
   "outputs": [
    {
     "data": {
      "text/html": [
       "<div>\n",
       "<style scoped>\n",
       "    .dataframe tbody tr th:only-of-type {\n",
       "        vertical-align: middle;\n",
       "    }\n",
       "\n",
       "    .dataframe tbody tr th {\n",
       "        vertical-align: top;\n",
       "    }\n",
       "\n",
       "    .dataframe thead th {\n",
       "        text-align: right;\n",
       "    }\n",
       "</style>\n",
       "<table border=\"1\" class=\"dataframe\">\n",
       "  <thead>\n",
       "    <tr style=\"text-align: right;\">\n",
       "      <th></th>\n",
       "      <th>revenue</th>\n",
       "      <th>s_fa_eps_basic</th>\n",
       "      <th>du_profit</th>\n",
       "      <th>plus_net_invest_inc</th>\n",
       "      <th>net_cash_flows_oper_act</th>\n",
       "      <th>net_cash_flows_inv_act</th>\n",
       "      <th>net_roe</th>\n",
       "      <th>total_roe</th>\n",
       "      <th>RSI</th>\n",
       "      <th>VOL</th>\n",
       "      <th>WILLR</th>\n",
       "      <th>y</th>\n",
       "      <th>date</th>\n",
       "    </tr>\n",
       "    <tr>\n",
       "      <th>stock_code</th>\n",
       "      <th></th>\n",
       "      <th></th>\n",
       "      <th></th>\n",
       "      <th></th>\n",
       "      <th></th>\n",
       "      <th></th>\n",
       "      <th></th>\n",
       "      <th></th>\n",
       "      <th></th>\n",
       "      <th></th>\n",
       "      <th></th>\n",
       "      <th></th>\n",
       "      <th></th>\n",
       "    </tr>\n",
       "  </thead>\n",
       "  <tbody>\n",
       "    <tr>\n",
       "      <th>000001.SZ</th>\n",
       "      <td>8.196800e+10</td>\n",
       "      <td>1.0600</td>\n",
       "      <td>0.000000e+00</td>\n",
       "      <td>0.000000e+00</td>\n",
       "      <td>-1.530000e+11</td>\n",
       "      <td>-9.716200e+10</td>\n",
       "      <td>8.7813</td>\n",
       "      <td>0.6289</td>\n",
       "      <td>52.970207</td>\n",
       "      <td>0.009827</td>\n",
       "      <td>-95.652174</td>\n",
       "      <td>0.035853</td>\n",
       "      <td>20171207</td>\n",
       "    </tr>\n",
       "    <tr>\n",
       "      <th>000002.SZ</th>\n",
       "      <td>1.170000e+11</td>\n",
       "      <td>1.0050</td>\n",
       "      <td>2.222772e+10</td>\n",
       "      <td>2.046834e+09</td>\n",
       "      <td>6.474047e+09</td>\n",
       "      <td>1.392036e+10</td>\n",
       "      <td>9.5305</td>\n",
       "      <td>1.6026</td>\n",
       "      <td>52.688324</td>\n",
       "      <td>0.006181</td>\n",
       "      <td>-98.727735</td>\n",
       "      <td>0.028047</td>\n",
       "      <td>20171207</td>\n",
       "    </tr>\n",
       "    <tr>\n",
       "      <th>000008.SZ</th>\n",
       "      <td>1.007329e+09</td>\n",
       "      <td>0.0434</td>\n",
       "      <td>1.776341e+08</td>\n",
       "      <td>0.000000e+00</td>\n",
       "      <td>-9.947078e+07</td>\n",
       "      <td>-1.193312e+09</td>\n",
       "      <td>1.9528</td>\n",
       "      <td>1.5235</td>\n",
       "      <td>30.723514</td>\n",
       "      <td>0.002209</td>\n",
       "      <td>-84.210526</td>\n",
       "      <td>0.050602</td>\n",
       "      <td>20171207</td>\n",
       "    </tr>\n",
       "    <tr>\n",
       "      <th>000060.SZ</th>\n",
       "      <td>1.482919e+10</td>\n",
       "      <td>0.3800</td>\n",
       "      <td>1.279332e+09</td>\n",
       "      <td>2.853988e+07</td>\n",
       "      <td>7.571307e+08</td>\n",
       "      <td>-4.932751e+08</td>\n",
       "      <td>8.6684</td>\n",
       "      <td>4.9238</td>\n",
       "      <td>38.133602</td>\n",
       "      <td>0.006967</td>\n",
       "      <td>-80.000000</td>\n",
       "      <td>0.019249</td>\n",
       "      <td>20171207</td>\n",
       "    </tr>\n",
       "    <tr>\n",
       "      <th>000063.SZ</th>\n",
       "      <td>4.775730e+10</td>\n",
       "      <td>0.9300</td>\n",
       "      <td>5.884933e+09</td>\n",
       "      <td>-1.951700e+07</td>\n",
       "      <td>-3.170483e+09</td>\n",
       "      <td>-4.387188e+09</td>\n",
       "      <td>12.6504</td>\n",
       "      <td>2.9854</td>\n",
       "      <td>49.792643</td>\n",
       "      <td>0.033398</td>\n",
       "      <td>-81.718963</td>\n",
       "      <td>0.068517</td>\n",
       "      <td>20171207</td>\n",
       "    </tr>\n",
       "  </tbody>\n",
       "</table>\n",
       "</div>"
      ],
      "text/plain": [
       "                 revenue  s_fa_eps_basic     du_profit  plus_net_invest_inc  \\\n",
       "stock_code                                                                    \n",
       "000001.SZ   8.196800e+10          1.0600  0.000000e+00         0.000000e+00   \n",
       "000002.SZ   1.170000e+11          1.0050  2.222772e+10         2.046834e+09   \n",
       "000008.SZ   1.007329e+09          0.0434  1.776341e+08         0.000000e+00   \n",
       "000060.SZ   1.482919e+10          0.3800  1.279332e+09         2.853988e+07   \n",
       "000063.SZ   4.775730e+10          0.9300  5.884933e+09        -1.951700e+07   \n",
       "\n",
       "            net_cash_flows_oper_act  net_cash_flows_inv_act  net_roe  \\\n",
       "stock_code                                                             \n",
       "000001.SZ             -1.530000e+11           -9.716200e+10   8.7813   \n",
       "000002.SZ              6.474047e+09            1.392036e+10   9.5305   \n",
       "000008.SZ             -9.947078e+07           -1.193312e+09   1.9528   \n",
       "000060.SZ              7.571307e+08           -4.932751e+08   8.6684   \n",
       "000063.SZ             -3.170483e+09           -4.387188e+09  12.6504   \n",
       "\n",
       "            total_roe        RSI       VOL      WILLR         y      date  \n",
       "stock_code                                                                 \n",
       "000001.SZ      0.6289  52.970207  0.009827 -95.652174  0.035853  20171207  \n",
       "000002.SZ      1.6026  52.688324  0.006181 -98.727735  0.028047  20171207  \n",
       "000008.SZ      1.5235  30.723514  0.002209 -84.210526  0.050602  20171207  \n",
       "000060.SZ      4.9238  38.133602  0.006967 -80.000000  0.019249  20171207  \n",
       "000063.SZ      2.9854  49.792643  0.033398 -81.718963  0.068517  20171207  "
      ]
     },
     "execution_count": 17,
     "metadata": {},
     "output_type": "execute_result"
    }
   ],
   "source": []
  },
  {
   "cell_type": "code",
   "execution_count": 18,
   "metadata": {},
   "outputs": [],
   "source": [
    "data=data.dropna()\n",
    "x_data=data.drop([\"date\",\"y\"],axis=1)\n",
    "y_data=data.loc[:,\"y\"]"
   ]
  },
  {
   "cell_type": "code",
   "execution_count": 19,
   "metadata": {},
   "outputs": [],
   "source": [
    "from sklearn.decomposition import PCA\n",
    "from sklearn.preprocessing import MinMaxScaler"
   ]
  },
  {
   "cell_type": "code",
   "execution_count": 21,
   "metadata": {},
   "outputs": [],
   "source": [
    "x=x_data.values\n"
   ]
  },
  {
   "cell_type": "code",
   "execution_count": 22,
   "metadata": {},
   "outputs": [],
   "source": [
    "nm_scaler=MinMaxScaler()\n",
    "x=nm_scaler.fit_transform(x)\n",
    "\n",
    "pac=PCA(n_components=7)\n",
    "x=pac.fit_transform(x)"
   ]
  },
  {
   "cell_type": "code",
   "execution_count": 23,
   "metadata": {},
   "outputs": [],
   "source": [
    "train_x=x[0:5702]\n",
    "test_x=x[5702:]"
   ]
  },
  {
   "cell_type": "code",
   "execution_count": 24,
   "metadata": {},
   "outputs": [],
   "source": [
    "y=y_data.values"
   ]
  },
  {
   "cell_type": "code",
   "execution_count": 25,
   "metadata": {},
   "outputs": [
    {
     "name": "stdout",
     "output_type": "stream",
     "text": [
      "[0.03585347 0.02804675 0.05060241 ... 0.14119923 0.12239444 0.23989218]\n"
     ]
    }
   ],
   "source": [
    "print(y)"
   ]
  },
  {
   "cell_type": "code",
   "execution_count": 26,
   "metadata": {},
   "outputs": [],
   "source": [
    "y[y>=0.04]=1\n",
    "y[y<0.04]=0"
   ]
  },
  {
   "cell_type": "code",
   "execution_count": 29,
   "metadata": {},
   "outputs": [],
   "source": [
    "train_y=y[0:5702]\n",
    "test_y=y[5702:]"
   ]
  },
  {
   "cell_type": "code",
   "execution_count": 41,
   "metadata": {},
   "outputs": [],
   "source": [
    "from sklearn.neighbors import KNeighborsClassifier\n",
    "knn=KNeighborsClassifier(n_neighbors=3,weights=\"distance\")\n",
    "knn.fit(train_x,train_y)\n",
    "predict_train_y=knn.predict(train_x)"
   ]
  },
  {
   "cell_type": "code",
   "execution_count": 34,
   "metadata": {},
   "outputs": [
    {
     "name": "stdout",
     "output_type": "stream",
     "text": [
      "[0. 0. 1. ... 1. 1. 0.]\n"
     ]
    }
   ],
   "source": [
    "print(predict_train_y)"
   ]
  },
  {
   "cell_type": "code",
   "execution_count": 36,
   "metadata": {},
   "outputs": [],
   "source": [
    "from sklearn.metrics import accuracy_score,confusion_matrix\n"
   ]
  },
  {
   "cell_type": "code",
   "execution_count": 45,
   "metadata": {},
   "outputs": [
    {
     "name": "stdout",
     "output_type": "stream",
     "text": [
      "1.0\n",
      "[[4263    0]\n",
      " [   0 1439]]\n"
     ]
    }
   ],
   "source": [
    "print(accuracy_score(train_y,predict_train_y))\n",
    "cm=confusion_matrix(train_y,predict_train_y)\n",
    "print(cm)"
   ]
  },
  {
   "cell_type": "code",
   "execution_count": 46,
   "metadata": {},
   "outputs": [],
   "source": [
    "predict_test_y=knn.predict(test_x)"
   ]
  },
  {
   "cell_type": "code",
   "execution_count": null,
   "metadata": {},
   "outputs": [],
   "source": [
    "print(accuracy_score(test_y,predict_test_y))\n",
    "cm=confusion_matrix(test_y,predict_test_y)\n",
    "print(cm)"
   ]
  }
 ],
 "metadata": {
  "kernelspec": {
   "display_name": "Python 3",
   "language": "python",
   "name": "python3"
  },
  "language_info": {
   "codemirror_mode": {
    "name": "ipython",
    "version": 3
   },
   "file_extension": ".py",
   "mimetype": "text/x-python",
   "name": "python",
   "nbconvert_exporter": "python",
   "pygments_lexer": "ipython3",
   "version": "3.7.3"
  }
 },
 "nbformat": 4,
 "nbformat_minor": 2
}
