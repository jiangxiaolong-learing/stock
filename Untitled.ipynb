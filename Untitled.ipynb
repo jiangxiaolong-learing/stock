{
 "cells": [
  {
   "cell_type": "code",
   "execution_count": 2,
   "metadata": {},
   "outputs": [],
   "source": [
    "import numpy as np\n",
    "import pandas as pd\n",
    "data=pd.read_csv(\"data/data.csv\")\n"
   ]
  },
  {
   "cell_type": "code",
   "execution_count": 3,
   "metadata": {},
   "outputs": [],
   "source": [
    "data=data.set_index(\"stock_code\")"
   ]
  },
  {
   "cell_type": "code",
   "execution_count": 7,
   "metadata": {},
   "outputs": [],
   "source": [
    "data=data.dropna()"
   ]
  },
  {
   "cell_type": "code",
   "execution_count": 8,
   "metadata": {},
   "outputs": [],
   "source": [
    "x_data=data.drop([\"date\",\"y\"],axis=1)\n"
   ]
  },
  {
   "cell_type": "code",
   "execution_count": 15,
   "metadata": {},
   "outputs": [],
   "source": [
    "y_data=data.loc[:,\"y\"]"
   ]
  },
  {
   "cell_type": "code",
   "execution_count": 16,
   "metadata": {},
   "outputs": [],
   "source": [
    "from sklearn.decomposition import PCA\n",
    "from sklearn.preprocessing import MinMaxScaler"
   ]
  },
  {
   "cell_type": "code",
   "execution_count": 17,
   "metadata": {},
   "outputs": [],
   "source": [
    "x=x_data.values\n",
    "y=y_data.values"
   ]
  },
  {
   "cell_type": "code",
   "execution_count": 18,
   "metadata": {},
   "outputs": [],
   "source": [
    "nm_scaler=MinMaxScaler()\n",
    "x=nm_scaler.fit_transform(x)\n",
    "pca=PCA(n_components=7)\n",
    "x=pca.fit_transform(x)\n",
    "train_x=x[:5702]\n",
    "test_x=x[5702:]"
   ]
  },
  {
   "cell_type": "code",
   "execution_count": 19,
   "metadata": {},
   "outputs": [
    {
     "name": "stdout",
     "output_type": "stream",
     "text": [
      "[0.03585347 0.02804675 0.05060241 ... 0.14119923 0.12239444 0.23989218]\n"
     ]
    }
   ],
   "source": [
    "print(y)"
   ]
  },
  {
   "cell_type": "code",
   "execution_count": 20,
   "metadata": {},
   "outputs": [],
   "source": [
    "y[y>=0.04]=1\n",
    "y[y<0.04]=0"
   ]
  },
  {
   "cell_type": "code",
   "execution_count": 26,
   "metadata": {},
   "outputs": [],
   "source": [
    "train_y=y[:5702]\n",
    "test_y=y[5702:]"
   ]
  },
  {
   "cell_type": "code",
   "execution_count": 27,
   "metadata": {},
   "outputs": [
    {
     "data": {
      "text/plain": [
       "KNeighborsClassifier(algorithm='auto', leaf_size=30, metric='minkowski',\n",
       "                     metric_params=None, n_jobs=None, n_neighbors=3, p=2,\n",
       "                     weights='distance')"
      ]
     },
     "execution_count": 27,
     "metadata": {},
     "output_type": "execute_result"
    }
   ],
   "source": [
    "from sklearn.neighbors import KNeighborsClassifier\n",
    "knn=KNeighborsClassifier(n_neighbors=3,weights=\"distance\")\n",
    "knn.fit(train_x,train_y)"
   ]
  },
  {
   "cell_type": "code",
   "execution_count": 28,
   "metadata": {},
   "outputs": [],
   "source": [
    "predict_train_y=knn.predict(train_x)"
   ]
  },
  {
   "cell_type": "code",
   "execution_count": 33,
   "metadata": {},
   "outputs": [],
   "source": [
    "from sklearn.metrics import accuracy_score,confusion_matrix\n"
   ]
  },
  {
   "cell_type": "code",
   "execution_count": 34,
   "metadata": {},
   "outputs": [
    {
     "name": "stdout",
     "output_type": "stream",
     "text": [
      "1.0\n"
     ]
    }
   ],
   "source": [
    "print(accuracy_score(train_y,predict_train_y))"
   ]
  },
  {
   "cell_type": "code",
   "execution_count": 37,
   "metadata": {},
   "outputs": [
    {
     "name": "stdout",
     "output_type": "stream",
     "text": [
      "[[4263    0]\n",
      " [   0 1439]]\n"
     ]
    }
   ],
   "source": [
    "cm=confusion_matrix(train_y,predict_train_y)\n",
    "print(cm)"
   ]
  },
  {
   "cell_type": "code",
   "execution_count": 40,
   "metadata": {},
   "outputs": [
    {
     "name": "stdout",
     "output_type": "stream",
     "text": [
      "0.5957642725598526\n",
      "[[1132  226]\n",
      " [ 652  162]]\n"
     ]
    }
   ],
   "source": [
    "predict_test_y=knn.predict(test_x)\n",
    "print(accuracy_score(test_y,predict_test_y))\n",
    "cm_test=confusion_matrix(test_y,predict_test_y)\n",
    "print(cm_test)"
   ]
  },
  {
   "cell_type": "code",
   "execution_count": 42,
   "metadata": {},
   "outputs": [],
   "source": [
    "#深度学习模型\n",
    "from keras.models import Sequential\n",
    "from keras.layers import Dense,Activation\n",
    "from keras.optimizers import Adam"
   ]
  },
  {
   "cell_type": "code",
   "execution_count": 56,
   "metadata": {},
   "outputs": [],
   "source": [
    "model=Sequential([Dense(10,input_shape=(7,)),Activation(\"tanh\"),Dense(1),Activation(\"sigmoid\")])\n"
   ]
  },
  {
   "cell_type": "code",
   "execution_count": 57,
   "metadata": {},
   "outputs": [
    {
     "name": "stderr",
     "output_type": "stream",
     "text": [
      "C:\\Users\\tcmc\\Anaconda3\\lib\\site-packages\\ipykernel_launcher.py:3: UserWarning: The `nb_epoch` argument in `fit` has been renamed `epochs`.\n",
      "  This is separate from the ipykernel package so we can avoid doing imports until\n"
     ]
    },
    {
     "name": "stdout",
     "output_type": "stream",
     "text": [
      "Epoch 1/100\n",
      "5702/5702 [==============================] - 0s 13us/step - loss: 0.2197 - accuracy: 0.6996\n",
      "Epoch 2/100\n",
      "5702/5702 [==============================] - 0s 3us/step - loss: 0.1863 - accuracy: 0.7478\n",
      "Epoch 3/100\n",
      "5702/5702 [==============================] - 0s 3us/step - loss: 0.1847 - accuracy: 0.7476\n",
      "Epoch 4/100\n",
      "5702/5702 [==============================] - 0s 4us/step - loss: 0.1828 - accuracy: 0.7480\n",
      "Epoch 5/100\n",
      "5702/5702 [==============================] - 0s 4us/step - loss: 0.1822 - accuracy: 0.7492\n",
      "Epoch 6/100\n",
      "5702/5702 [==============================] - 0s 3us/step - loss: 0.1819 - accuracy: 0.7501\n",
      "Epoch 7/100\n",
      "5702/5702 [==============================] - 0s 3us/step - loss: 0.1817 - accuracy: 0.7506\n",
      "Epoch 8/100\n",
      "5702/5702 [==============================] - 0s 3us/step - loss: 0.1815 - accuracy: 0.7504\n",
      "Epoch 9/100\n",
      "5702/5702 [==============================] - 0s 4us/step - loss: 0.1815 - accuracy: 0.7504\n",
      "Epoch 10/100\n",
      "5702/5702 [==============================] - 0s 3us/step - loss: 0.1814 - accuracy: 0.7504\n",
      "Epoch 11/100\n",
      "5702/5702 [==============================] - 0s 3us/step - loss: 0.1815 - accuracy: 0.7497\n",
      "Epoch 12/100\n",
      "5702/5702 [==============================] - 0s 4us/step - loss: 0.1814 - accuracy: 0.7503\n",
      "Epoch 13/100\n",
      "5702/5702 [==============================] - 0s 3us/step - loss: 0.1813 - accuracy: 0.7503\n",
      "Epoch 14/100\n",
      "5702/5702 [==============================] - 0s 3us/step - loss: 0.1814 - accuracy: 0.7497\n",
      "Epoch 15/100\n",
      "5702/5702 [==============================] - 0s 3us/step - loss: 0.1815 - accuracy: 0.7503\n",
      "Epoch 16/100\n",
      "5702/5702 [==============================] - 0s 4us/step - loss: 0.1813 - accuracy: 0.7503\n",
      "Epoch 17/100\n",
      "5702/5702 [==============================] - 0s 4us/step - loss: 0.1814 - accuracy: 0.7504\n",
      "Epoch 18/100\n",
      "5702/5702 [==============================] - 0s 3us/step - loss: 0.1813 - accuracy: 0.7501\n",
      "Epoch 19/100\n",
      "5702/5702 [==============================] - 0s 3us/step - loss: 0.1814 - accuracy: 0.7508\n",
      "Epoch 20/100\n",
      "5702/5702 [==============================] - 0s 3us/step - loss: 0.1813 - accuracy: 0.7497\n",
      "Epoch 21/100\n",
      "5702/5702 [==============================] - 0s 4us/step - loss: 0.1813 - accuracy: 0.7497\n",
      "Epoch 22/100\n",
      "5702/5702 [==============================] - 0s 3us/step - loss: 0.1812 - accuracy: 0.7503\n",
      "Epoch 23/100\n",
      "5702/5702 [==============================] - 0s 4us/step - loss: 0.1813 - accuracy: 0.7497\n",
      "Epoch 24/100\n",
      "5702/5702 [==============================] - 0s 4us/step - loss: 0.1812 - accuracy: 0.7501\n",
      "Epoch 25/100\n",
      "5702/5702 [==============================] - 0s 4us/step - loss: 0.1811 - accuracy: 0.7497\n",
      "Epoch 26/100\n",
      "5702/5702 [==============================] - 0s 3us/step - loss: 0.1812 - accuracy: 0.7496\n",
      "Epoch 27/100\n",
      "5702/5702 [==============================] - 0s 3us/step - loss: 0.1811 - accuracy: 0.7494\n",
      "Epoch 28/100\n",
      "5702/5702 [==============================] - 0s 3us/step - loss: 0.1811 - accuracy: 0.7499\n",
      "Epoch 29/100\n",
      "5702/5702 [==============================] - 0s 5us/step - loss: 0.1811 - accuracy: 0.7499\n",
      "Epoch 30/100\n",
      "5702/5702 [==============================] - 0s 3us/step - loss: 0.1811 - accuracy: 0.7499\n",
      "Epoch 31/100\n",
      "5702/5702 [==============================] - 0s 3us/step - loss: 0.1811 - accuracy: 0.7506\n",
      "Epoch 32/100\n",
      "5702/5702 [==============================] - 0s 4us/step - loss: 0.1810 - accuracy: 0.7503\n",
      "Epoch 33/100\n",
      "5702/5702 [==============================] - 0s 4us/step - loss: 0.1810 - accuracy: 0.7503\n",
      "Epoch 34/100\n",
      "5702/5702 [==============================] - 0s 4us/step - loss: 0.1811 - accuracy: 0.7496\n",
      "Epoch 35/100\n",
      "5702/5702 [==============================] - 0s 3us/step - loss: 0.1809 - accuracy: 0.7499\n",
      "Epoch 36/100\n",
      "5702/5702 [==============================] - 0s 3us/step - loss: 0.1809 - accuracy: 0.7496\n",
      "Epoch 37/100\n",
      "5702/5702 [==============================] - 0s 3us/step - loss: 0.1809 - accuracy: 0.7503\n",
      "Epoch 38/100\n",
      "5702/5702 [==============================] - 0s 4us/step - loss: 0.1810 - accuracy: 0.7504\n",
      "Epoch 39/100\n",
      "5702/5702 [==============================] - 0s 3us/step - loss: 0.1809 - accuracy: 0.7501\n",
      "Epoch 40/100\n",
      "5702/5702 [==============================] - 0s 3us/step - loss: 0.1809 - accuracy: 0.7499\n",
      "Epoch 41/100\n",
      "5702/5702 [==============================] - 0s 3us/step - loss: 0.1808 - accuracy: 0.7499\n",
      "Epoch 42/100\n",
      "5702/5702 [==============================] - 0s 4us/step - loss: 0.1809 - accuracy: 0.7504\n",
      "Epoch 43/100\n",
      "5702/5702 [==============================] - 0s 5us/step - loss: 0.1808 - accuracy: 0.7499\n",
      "Epoch 44/100\n",
      "5702/5702 [==============================] - 0s 4us/step - loss: 0.1808 - accuracy: 0.7501\n",
      "Epoch 45/100\n",
      "5702/5702 [==============================] - 0s 4us/step - loss: 0.1807 - accuracy: 0.7499\n",
      "Epoch 46/100\n",
      "5702/5702 [==============================] - 0s 3us/step - loss: 0.1807 - accuracy: 0.7504\n",
      "Epoch 47/100\n",
      "5702/5702 [==============================] - 0s 3us/step - loss: 0.1806 - accuracy: 0.7497\n",
      "Epoch 48/100\n",
      "5702/5702 [==============================] - 0s 3us/step - loss: 0.1807 - accuracy: 0.7506\n",
      "Epoch 49/100\n",
      "5702/5702 [==============================] - 0s 4us/step - loss: 0.1806 - accuracy: 0.7501\n",
      "Epoch 50/100\n",
      "5702/5702 [==============================] - 0s 3us/step - loss: 0.1805 - accuracy: 0.7503\n",
      "Epoch 51/100\n",
      "5702/5702 [==============================] - 0s 4us/step - loss: 0.1805 - accuracy: 0.7503\n",
      "Epoch 52/100\n",
      "5702/5702 [==============================] - 0s 3us/step - loss: 0.1805 - accuracy: 0.7504\n",
      "Epoch 53/100\n",
      "5702/5702 [==============================] - 0s 3us/step - loss: 0.1805 - accuracy: 0.7504\n",
      "Epoch 54/100\n",
      "5702/5702 [==============================] - 0s 4us/step - loss: 0.1806 - accuracy: 0.7503\n",
      "Epoch 55/100\n",
      "5702/5702 [==============================] - 0s 4us/step - loss: 0.1804 - accuracy: 0.7508\n",
      "Epoch 56/100\n",
      "5702/5702 [==============================] - 0s 3us/step - loss: 0.1804 - accuracy: 0.7510\n",
      "Epoch 57/100\n",
      "5702/5702 [==============================] - 0s 3us/step - loss: 0.1803 - accuracy: 0.7506\n",
      "Epoch 58/100\n",
      "5702/5702 [==============================] - 0s 4us/step - loss: 0.1804 - accuracy: 0.7496\n",
      "Epoch 59/100\n",
      "5702/5702 [==============================] - 0s 3us/step - loss: 0.1804 - accuracy: 0.7504\n",
      "Epoch 60/100\n",
      "5702/5702 [==============================] - 0s 3us/step - loss: 0.1804 - accuracy: 0.7504\n",
      "Epoch 61/100\n",
      "5702/5702 [==============================] - 0s 3us/step - loss: 0.1804 - accuracy: 0.7503\n",
      "Epoch 62/100\n",
      "5702/5702 [==============================] - 0s 3us/step - loss: 0.1804 - accuracy: 0.7504\n",
      "Epoch 63/100\n",
      "5702/5702 [==============================] - 0s 3us/step - loss: 0.1803 - accuracy: 0.7508\n",
      "Epoch 64/100\n",
      "5702/5702 [==============================] - 0s 3us/step - loss: 0.1802 - accuracy: 0.7506\n",
      "Epoch 65/100\n",
      "5702/5702 [==============================] - 0s 3us/step - loss: 0.1802 - accuracy: 0.7511\n",
      "Epoch 66/100\n",
      "5702/5702 [==============================] - 0s 3us/step - loss: 0.1802 - accuracy: 0.7513\n",
      "Epoch 67/100\n",
      "5702/5702 [==============================] - 0s 3us/step - loss: 0.1803 - accuracy: 0.7508\n",
      "Epoch 68/100\n",
      "5702/5702 [==============================] - 0s 3us/step - loss: 0.1801 - accuracy: 0.7508\n",
      "Epoch 69/100\n",
      "5702/5702 [==============================] - 0s 3us/step - loss: 0.1800 - accuracy: 0.7508\n",
      "Epoch 70/100\n",
      "5702/5702 [==============================] - 0s 3us/step - loss: 0.1800 - accuracy: 0.7501\n",
      "Epoch 71/100\n",
      "5702/5702 [==============================] - 0s 3us/step - loss: 0.1800 - accuracy: 0.7506\n",
      "Epoch 72/100\n",
      "5702/5702 [==============================] - 0s 3us/step - loss: 0.1803 - accuracy: 0.7503\n",
      "Epoch 73/100\n",
      "5702/5702 [==============================] - 0s 3us/step - loss: 0.1802 - accuracy: 0.7517\n",
      "Epoch 74/100\n",
      "5702/5702 [==============================] - 0s 3us/step - loss: 0.1800 - accuracy: 0.7499\n",
      "Epoch 75/100\n",
      "5702/5702 [==============================] - 0s 3us/step - loss: 0.1800 - accuracy: 0.7513\n",
      "Epoch 76/100\n",
      "5702/5702 [==============================] - 0s 3us/step - loss: 0.1798 - accuracy: 0.7510\n",
      "Epoch 77/100\n",
      "5702/5702 [==============================] - 0s 3us/step - loss: 0.1800 - accuracy: 0.7496\n",
      "Epoch 78/100\n",
      "5702/5702 [==============================] - 0s 4us/step - loss: 0.1799 - accuracy: 0.7513\n",
      "Epoch 79/100\n"
     ]
    },
    {
     "name": "stdout",
     "output_type": "stream",
     "text": [
      "5702/5702 [==============================] - 0s 3us/step - loss: 0.1798 - accuracy: 0.7511\n",
      "Epoch 80/100\n",
      "5702/5702 [==============================] - 0s 4us/step - loss: 0.1798 - accuracy: 0.7504\n",
      "Epoch 81/100\n",
      "5702/5702 [==============================] - 0s 2us/step - loss: 0.1798 - accuracy: 0.7515\n",
      "Epoch 82/100\n",
      "5702/5702 [==============================] - 0s 3us/step - loss: 0.1797 - accuracy: 0.7510\n",
      "Epoch 83/100\n",
      "5702/5702 [==============================] - 0s 3us/step - loss: 0.1798 - accuracy: 0.7508\n",
      "Epoch 84/100\n",
      "5702/5702 [==============================] - 0s 4us/step - loss: 0.1798 - accuracy: 0.7513\n",
      "Epoch 85/100\n",
      "5702/5702 [==============================] - 0s 3us/step - loss: 0.1797 - accuracy: 0.7510\n",
      "Epoch 86/100\n",
      "5702/5702 [==============================] - 0s 3us/step - loss: 0.1797 - accuracy: 0.7520\n",
      "Epoch 87/100\n",
      "5702/5702 [==============================] - 0s 3us/step - loss: 0.1798 - accuracy: 0.7508\n",
      "Epoch 88/100\n",
      "5702/5702 [==============================] - 0s 3us/step - loss: 0.1799 - accuracy: 0.7518\n",
      "Epoch 89/100\n",
      "5702/5702 [==============================] - 0s 3us/step - loss: 0.1796 - accuracy: 0.7510\n",
      "Epoch 90/100\n",
      "5702/5702 [==============================] - 0s 3us/step - loss: 0.1799 - accuracy: 0.7520\n",
      "Epoch 91/100\n",
      "5702/5702 [==============================] - 0s 3us/step - loss: 0.1798 - accuracy: 0.7518\n",
      "Epoch 92/100\n",
      "5702/5702 [==============================] - 0s 4us/step - loss: 0.1795 - accuracy: 0.7513\n",
      "Epoch 93/100\n",
      "5702/5702 [==============================] - 0s 3us/step - loss: 0.1797 - accuracy: 0.7513\n",
      "Epoch 94/100\n",
      "5702/5702 [==============================] - 0s 3us/step - loss: 0.1796 - accuracy: 0.7510\n",
      "Epoch 95/100\n",
      "5702/5702 [==============================] - 0s 3us/step - loss: 0.1795 - accuracy: 0.7517\n",
      "Epoch 96/100\n",
      "5702/5702 [==============================] - 0s 3us/step - loss: 0.1798 - accuracy: 0.7525\n",
      "Epoch 97/100\n",
      "5702/5702 [==============================] - 0s 3us/step - loss: 0.1796 - accuracy: 0.7511\n",
      "Epoch 98/100\n",
      "5702/5702 [==============================] - 0s 3us/step - loss: 0.1795 - accuracy: 0.7511\n",
      "Epoch 99/100\n",
      "5702/5702 [==============================] - 0s 3us/step - loss: 0.1796 - accuracy: 0.7515\n",
      "Epoch 100/100\n",
      "5702/5702 [==============================] - 0s 3us/step - loss: 0.1794 - accuracy: 0.7508\n"
     ]
    },
    {
     "data": {
      "text/plain": [
       "<keras.callbacks.callbacks.History at 0x1add5737c50>"
      ]
     },
     "execution_count": 57,
     "metadata": {},
     "output_type": "execute_result"
    }
   ],
   "source": [
    "adam=Adam(lr=0.01)\n",
    "model.compile(optimizer=adam,loss=\"mean_squared_error\",metrics=[\"accuracy\"])\n",
    "model.fit(train_x,train_y,nb_epoch=100,batch_size=500)"
   ]
  },
  {
   "cell_type": "code",
   "execution_count": 58,
   "metadata": {},
   "outputs": [],
   "source": [
    "predict_test_y=model.predict(test_x)\n"
   ]
  },
  {
   "cell_type": "code",
   "execution_count": 59,
   "metadata": {},
   "outputs": [
    {
     "name": "stdout",
     "output_type": "stream",
     "text": [
      "[[0.19234616]\n",
      " [0.12511837]\n",
      " [0.20310251]\n",
      " ...\n",
      " [0.3648835 ]\n",
      " [0.2639342 ]\n",
      " [0.24701023]]\n"
     ]
    }
   ],
   "source": [
    "print(predict_test_y)"
   ]
  },
  {
   "cell_type": "code",
   "execution_count": 61,
   "metadata": {},
   "outputs": [
    {
     "name": "stdout",
     "output_type": "stream",
     "text": [
      "0.6270718232044199\n",
      "[[1358    0]\n",
      " [ 810    4]]\n"
     ]
    }
   ],
   "source": [
    "#测试模型表现\n",
    "from sklearn.metrics import accuracy_score, confusion_matrix\n",
    "#设定阈值\n",
    "predict_test_y=model.predict(test_x)\n",
    "theta=0.6\n",
    "predict_test_y[predict_test_y>=theta]=1\n",
    "predict_test_y[predict_test_y<theta]=0\n",
    "\n",
    "\n",
    "#将量化预测结果进行阈值分类\n",
    "\n",
    "acc=accuracy_score(test_y,predict_test_y)\n",
    "cm=confusion_matrix(test_y,predict_test_y)\n",
    "\n",
    "print(acc)\n",
    "print(cm)\n"
   ]
  },
  {
   "cell_type": "code",
   "execution_count": null,
   "metadata": {},
   "outputs": [],
   "source": []
  }
 ],
 "metadata": {
  "kernelspec": {
   "display_name": "Python 3",
   "language": "python",
   "name": "python3"
  },
  "language_info": {
   "codemirror_mode": {
    "name": "ipython",
    "version": 3
   },
   "file_extension": ".py",
   "mimetype": "text/x-python",
   "name": "python",
   "nbconvert_exporter": "python",
   "pygments_lexer": "ipython3",
   "version": "3.7.3"
  }
 },
 "nbformat": 4,
 "nbformat_minor": 2
}
